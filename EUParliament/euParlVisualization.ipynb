{
 "cells": [
  {
   "cell_type": "code",
   "execution_count": 1,
   "metadata": {},
   "outputs": [],
   "source": [
    "import numpy as np\n",
    "import pandas as pd\n",
    "import matplotlib.pyplot as plt\n",
    "import os"
   ]
  },
  {
   "cell_type": "code",
   "execution_count": 2,
   "metadata": {},
   "outputs": [],
   "source": [
    "fp0 = \"F:\\\\EUparlData\\\\allRowsMinusText.csv\"\n",
    "fp1 = \"F:\\\\EUparlData\\\\plots\"\n",
    "\n",
    "fpc = os.path.join(fp1, 'perCountry')\n",
    "fpg = os.path.join(fp1, 'perPolGroup')\n",
    "fpp = os.path.join(fp1, 'byPartyPerCountry')"
   ]
  },
  {
   "cell_type": "code",
   "execution_count": 3,
   "metadata": {},
   "outputs": [
    {
     "name": "stderr",
     "output_type": "stream",
     "text": [
      "C:\\Users\\Asus\\Anaconda3\\lib\\site-packages\\IPython\\core\\interactiveshell.py:3146: DtypeWarning: Columns (1,5) have mixed types.Specify dtype option on import or set low_memory=False.\n",
      "  interactivity=interactivity, compiler=compiler, result=result)\n"
     ]
    }
   ],
   "source": [
    "DF = pd.read_csv(fp0)\n",
    "DF = DF.iloc[234209:]"
   ]
  },
  {
   "cell_type": "code",
   "execution_count": 4,
   "metadata": {},
   "outputs": [
    {
     "data": {
      "text/html": [
       "<div>\n",
       "<style scoped>\n",
       "    .dataframe tbody tr th:only-of-type {\n",
       "        vertical-align: middle;\n",
       "    }\n",
       "\n",
       "    .dataframe tbody tr th {\n",
       "        vertical-align: top;\n",
       "    }\n",
       "\n",
       "    .dataframe thead th {\n",
       "        text-align: right;\n",
       "    }\n",
       "</style>\n",
       "<table border=\"1\" class=\"dataframe\">\n",
       "  <thead>\n",
       "    <tr style=\"text-align: right;\">\n",
       "      <th></th>\n",
       "      <th>id</th>\n",
       "      <th>speechNumber</th>\n",
       "      <th>speechTime</th>\n",
       "      <th>speechLanguage</th>\n",
       "      <th>speakerName</th>\n",
       "      <th>speakerType</th>\n",
       "      <th>speakerID</th>\n",
       "      <th>speakerCountry</th>\n",
       "      <th>speakerPolGroup</th>\n",
       "      <th>speakerParty</th>\n",
       "      <th>health</th>\n",
       "      <th>climate</th>\n",
       "      <th>intersection</th>\n",
       "    </tr>\n",
       "  </thead>\n",
       "  <tbody>\n",
       "    <tr>\n",
       "      <th>234209</th>\n",
       "      <td>234209</td>\n",
       "      <td>1-013-0000</td>\n",
       "      <td>('2020-02-10T17:10:43.649', '2020-02-10T17:11:...</td>\n",
       "      <td>FR</td>\n",
       "      <td>Manon  Aubry</td>\n",
       "      <td>NaN</td>\n",
       "      <td>197533.0</td>\n",
       "      <td>France</td>\n",
       "      <td>The Left group in the European Parliament - GU...</td>\n",
       "      <td>La France Insoumise</td>\n",
       "      <td>0</td>\n",
       "      <td>0</td>\n",
       "      <td>0</td>\n",
       "    </tr>\n",
       "    <tr>\n",
       "      <th>234210</th>\n",
       "      <td>234210</td>\n",
       "      <td>1-014-0000</td>\n",
       "      <td>('2020-02-10T17:11:53.908', '2020-02-10T17:12:...</td>\n",
       "      <td>EN</td>\n",
       "      <td>Mairead  McGuinness</td>\n",
       "      <td>NaN</td>\n",
       "      <td>28115.0</td>\n",
       "      <td>NaN</td>\n",
       "      <td>NaN</td>\n",
       "      <td>NaN</td>\n",
       "      <td>0</td>\n",
       "      <td>0</td>\n",
       "      <td>0</td>\n",
       "    </tr>\n",
       "    <tr>\n",
       "      <th>234211</th>\n",
       "      <td>234211</td>\n",
       "      <td>1-015-0000</td>\n",
       "      <td>('2020-02-10T17:12:11.215', '2020-02-10T17:12:...</td>\n",
       "      <td>PT</td>\n",
       "      <td>Sandra  Pereira</td>\n",
       "      <td>NaN</td>\n",
       "      <td>197754.0</td>\n",
       "      <td>Portugal</td>\n",
       "      <td>The Left group in the European Parliament - GU...</td>\n",
       "      <td>Partido Comunista Português</td>\n",
       "      <td>0</td>\n",
       "      <td>0</td>\n",
       "      <td>0</td>\n",
       "    </tr>\n",
       "    <tr>\n",
       "      <th>234212</th>\n",
       "      <td>234212</td>\n",
       "      <td>1-016-0000</td>\n",
       "      <td>('2020-02-10T17:12:54.158', '2020-02-10T17:13:...</td>\n",
       "      <td>EN</td>\n",
       "      <td>Mairead  McGuinness</td>\n",
       "      <td>NaN</td>\n",
       "      <td>28115.0</td>\n",
       "      <td>NaN</td>\n",
       "      <td>NaN</td>\n",
       "      <td>NaN</td>\n",
       "      <td>0</td>\n",
       "      <td>0</td>\n",
       "      <td>0</td>\n",
       "    </tr>\n",
       "    <tr>\n",
       "      <th>234213</th>\n",
       "      <td>234213</td>\n",
       "      <td>1-020-0000</td>\n",
       "      <td>('2020-02-10T17:13:19.011', '2020-02-10T17:13:...</td>\n",
       "      <td>EN</td>\n",
       "      <td>Mairead  McGuinness</td>\n",
       "      <td>NaN</td>\n",
       "      <td>28115.0</td>\n",
       "      <td>NaN</td>\n",
       "      <td>NaN</td>\n",
       "      <td>NaN</td>\n",
       "      <td>0</td>\n",
       "      <td>0</td>\n",
       "      <td>0</td>\n",
       "    </tr>\n",
       "    <tr>\n",
       "      <th>...</th>\n",
       "      <td>...</td>\n",
       "      <td>...</td>\n",
       "      <td>...</td>\n",
       "      <td>...</td>\n",
       "      <td>...</td>\n",
       "      <td>...</td>\n",
       "      <td>...</td>\n",
       "      <td>...</td>\n",
       "      <td>...</td>\n",
       "      <td>...</td>\n",
       "      <td>...</td>\n",
       "      <td>...</td>\n",
       "      <td>...</td>\n",
       "    </tr>\n",
       "    <tr>\n",
       "      <th>253833</th>\n",
       "      <td>253833</td>\n",
       "      <td>4-166-0000</td>\n",
       "      <td>('2021-12-16T15:38:18.463', '2021-12-16T15:39:...</td>\n",
       "      <td>NL</td>\n",
       "      <td>Tom  Vandenkendelaere</td>\n",
       "      <td>NaN</td>\n",
       "      <td>129164.0</td>\n",
       "      <td>Belgium</td>\n",
       "      <td>Group of the European People's Party (Christia...</td>\n",
       "      <td>Christen-Democratisch and Vlaams</td>\n",
       "      <td>0</td>\n",
       "      <td>0</td>\n",
       "      <td>0</td>\n",
       "    </tr>\n",
       "    <tr>\n",
       "      <th>253834</th>\n",
       "      <td>253834</td>\n",
       "      <td>4-167-0000</td>\n",
       "      <td>('2021-12-16T15:39:42.852', '2021-12-16T15:45:...</td>\n",
       "      <td>EN</td>\n",
       "      <td>Adina-Ioana  Vălean</td>\n",
       "      <td>membre de la commission</td>\n",
       "      <td>0.0</td>\n",
       "      <td>NaN</td>\n",
       "      <td>NaN</td>\n",
       "      <td>NaN</td>\n",
       "      <td>1</td>\n",
       "      <td>0</td>\n",
       "      <td>0</td>\n",
       "    </tr>\n",
       "    <tr>\n",
       "      <th>253835</th>\n",
       "      <td>253835</td>\n",
       "      <td>4-168-0000</td>\n",
       "      <td>('2021-12-16T15:45:53.300', '2021-12-16T15:46:...</td>\n",
       "      <td>DE</td>\n",
       "      <td>Rainer  Wieland</td>\n",
       "      <td>NaN</td>\n",
       "      <td>2323.0</td>\n",
       "      <td>Germany</td>\n",
       "      <td>Group of the European People's Party (Christia...</td>\n",
       "      <td>Christlich Demokratische Union Deutschlands</td>\n",
       "      <td>0</td>\n",
       "      <td>0</td>\n",
       "      <td>0</td>\n",
       "    </tr>\n",
       "    <tr>\n",
       "      <th>253836</th>\n",
       "      <td>253836</td>\n",
       "      <td>4-184-0000</td>\n",
       "      <td>('2021-12-16T16:02:32.662', '2021-12-16T16:02:...</td>\n",
       "      <td>DE</td>\n",
       "      <td>Rainer  Wieland</td>\n",
       "      <td>NaN</td>\n",
       "      <td>2323.0</td>\n",
       "      <td>Germany</td>\n",
       "      <td>Group of the European People's Party (Christia...</td>\n",
       "      <td>Christlich Demokratische Union Deutschlands</td>\n",
       "      <td>0</td>\n",
       "      <td>0</td>\n",
       "      <td>0</td>\n",
       "    </tr>\n",
       "    <tr>\n",
       "      <th>253837</th>\n",
       "      <td>253837</td>\n",
       "      <td>4-189-0000</td>\n",
       "      <td>('2021-12-16T16:03:01.084', '2021-12-16T16:03:...</td>\n",
       "      <td>DE</td>\n",
       "      <td>Rainer  Wieland</td>\n",
       "      <td>NaN</td>\n",
       "      <td>2323.0</td>\n",
       "      <td>Germany</td>\n",
       "      <td>Group of the European People's Party (Christia...</td>\n",
       "      <td>Christlich Demokratische Union Deutschlands</td>\n",
       "      <td>0</td>\n",
       "      <td>0</td>\n",
       "      <td>0</td>\n",
       "    </tr>\n",
       "  </tbody>\n",
       "</table>\n",
       "<p>19629 rows × 13 columns</p>\n",
       "</div>"
      ],
      "text/plain": [
       "            id speechNumber  \\\n",
       "234209  234209   1-013-0000   \n",
       "234210  234210   1-014-0000   \n",
       "234211  234211   1-015-0000   \n",
       "234212  234212   1-016-0000   \n",
       "234213  234213   1-020-0000   \n",
       "...        ...          ...   \n",
       "253833  253833   4-166-0000   \n",
       "253834  253834   4-167-0000   \n",
       "253835  253835   4-168-0000   \n",
       "253836  253836   4-184-0000   \n",
       "253837  253837   4-189-0000   \n",
       "\n",
       "                                               speechTime speechLanguage  \\\n",
       "234209  ('2020-02-10T17:10:43.649', '2020-02-10T17:11:...             FR   \n",
       "234210  ('2020-02-10T17:11:53.908', '2020-02-10T17:12:...             EN   \n",
       "234211  ('2020-02-10T17:12:11.215', '2020-02-10T17:12:...             PT   \n",
       "234212  ('2020-02-10T17:12:54.158', '2020-02-10T17:13:...             EN   \n",
       "234213  ('2020-02-10T17:13:19.011', '2020-02-10T17:13:...             EN   \n",
       "...                                                   ...            ...   \n",
       "253833  ('2021-12-16T15:38:18.463', '2021-12-16T15:39:...             NL   \n",
       "253834  ('2021-12-16T15:39:42.852', '2021-12-16T15:45:...             EN   \n",
       "253835  ('2021-12-16T15:45:53.300', '2021-12-16T15:46:...             DE   \n",
       "253836  ('2021-12-16T16:02:32.662', '2021-12-16T16:02:...             DE   \n",
       "253837  ('2021-12-16T16:03:01.084', '2021-12-16T16:03:...             DE   \n",
       "\n",
       "                  speakerName              speakerType  speakerID  \\\n",
       "234209           Manon  Aubry                      NaN   197533.0   \n",
       "234210    Mairead  McGuinness                      NaN    28115.0   \n",
       "234211        Sandra  Pereira                      NaN   197754.0   \n",
       "234212    Mairead  McGuinness                      NaN    28115.0   \n",
       "234213    Mairead  McGuinness                      NaN    28115.0   \n",
       "...                       ...                      ...        ...   \n",
       "253833  Tom  Vandenkendelaere                      NaN   129164.0   \n",
       "253834    Adina-Ioana  Vălean  membre de la commission        0.0   \n",
       "253835        Rainer  Wieland                      NaN     2323.0   \n",
       "253836        Rainer  Wieland                      NaN     2323.0   \n",
       "253837        Rainer  Wieland                      NaN     2323.0   \n",
       "\n",
       "       speakerCountry                                    speakerPolGroup  \\\n",
       "234209         France  The Left group in the European Parliament - GU...   \n",
       "234210            NaN                                                NaN   \n",
       "234211       Portugal  The Left group in the European Parliament - GU...   \n",
       "234212            NaN                                                NaN   \n",
       "234213            NaN                                                NaN   \n",
       "...               ...                                                ...   \n",
       "253833        Belgium  Group of the European People's Party (Christia...   \n",
       "253834            NaN                                                NaN   \n",
       "253835        Germany  Group of the European People's Party (Christia...   \n",
       "253836        Germany  Group of the European People's Party (Christia...   \n",
       "253837        Germany  Group of the European People's Party (Christia...   \n",
       "\n",
       "                                       speakerParty  health  climate  \\\n",
       "234209                          La France Insoumise       0        0   \n",
       "234210                                          NaN       0        0   \n",
       "234211                  Partido Comunista Português       0        0   \n",
       "234212                                          NaN       0        0   \n",
       "234213                                          NaN       0        0   \n",
       "...                                             ...     ...      ...   \n",
       "253833             Christen-Democratisch and Vlaams       0        0   \n",
       "253834                                          NaN       1        0   \n",
       "253835  Christlich Demokratische Union Deutschlands       0        0   \n",
       "253836  Christlich Demokratische Union Deutschlands       0        0   \n",
       "253837  Christlich Demokratische Union Deutschlands       0        0   \n",
       "\n",
       "        intersection  \n",
       "234209             0  \n",
       "234210             0  \n",
       "234211             0  \n",
       "234212             0  \n",
       "234213             0  \n",
       "...              ...  \n",
       "253833             0  \n",
       "253834             0  \n",
       "253835             0  \n",
       "253836             0  \n",
       "253837             0  \n",
       "\n",
       "[19629 rows x 13 columns]"
      ]
     },
     "execution_count": 4,
     "metadata": {},
     "output_type": "execute_result"
    }
   ],
   "source": [
    "DF"
   ]
  },
  {
   "cell_type": "code",
   "execution_count": 5,
   "metadata": {},
   "outputs": [],
   "source": [
    "DF = DF.dropna(subset = ['speakerCountry'])\n",
    "DF = DF.dropna(subset = ['speakerPolGroup'])"
   ]
  },
  {
   "cell_type": "code",
   "execution_count": 44,
   "metadata": {},
   "outputs": [
    {
     "data": {
      "image/png": "[encoded data removed]",
      "text/plain": [
       "<Figure size 432x288 with 1 Axes>"
      ]
     },
     "metadata": {
      "needs_background": "light"
     },
     "output_type": "display_data"
    }
   ],
   "source": [
    "####Country\n",
    "\n",
    "DFc = DF[['speakerCountry', 'health', 'climate', 'intersection']]\n",
    "DFc = DFc.groupby(by = 'speakerCountry', as_index = False).sum()\n",
    "\n",
    "x = np.arange(len(DFc))  # the label locations\n",
    "width = 0.25 # the width of the bars\n",
    "\n",
    "fig, ax = plt.subplots()\n",
    "rects0 = ax.bar(x - width, DFc['health'], width, label='Health')\n",
    "rects1 = ax.bar(x , DFc['climate'], width, label='Climate')\n",
    "rects2 = ax.bar(x + width, DFc['intersection'], width, label='Intersection')\n",
    "\n",
    "\n",
    "ax.set_ylabel('Term Frequency')\n",
    "ax.set_xlabel('Country')\n",
    "ax.set_title('Frequency of terms related to Health and Climate Change')\n",
    "ax.set_xticks(x)\n",
    "\n",
    "plt.plot()\n",
    "ax.set_xticklabels(DFc['speakerCountry'], rotation=90)\n",
    "ax.legend()\n",
    "\n",
    "fig.tight_layout()\n",
    "\n",
    "#plt.show()\n",
    "plt.savefig(os.path.join(fp1, 'byCountry.png'), format = 'png', dpi=600)"
   ]
  },
  {
   "cell_type": "code",
   "execution_count": 71,
   "metadata": {},
   "outputs": [
    {
     "data": {
      "image/png": "[encoded data removed]",
      "text/plain": [
       "<Figure size 432x288 with 1 Axes>"
      ]
     },
     "metadata": {
      "needs_background": "light"
     },
     "output_type": "display_data"
    }
   ],
   "source": [
    "####Political Group\n",
    "\n",
    "DFc = DF[['speakerPolGroup', 'health', 'climate', 'intersection']]\n",
    "DFc = DFc.groupby(by = 'speakerPolGroup', as_index = False).sum()\n",
    "\n",
    "x = np.arange(len(DFc))  # the label locations\n",
    "width = 0.25 # the width of the bars\n",
    "\n",
    "fig, ax = plt.subplots()\n",
    "rects0 = ax.barh(x - width, DFc['health'], width, label='Health')\n",
    "rects1 = ax.barh(x , DFc['climate'], width, label='Climate')\n",
    "rects2 = ax.barh(x + width, DFc['intersection'], width, label='Intersection')\n",
    "\n",
    "ax.set_xlabel('Term Frequency')\n",
    "ax.set_ylabel('Political Group')\n",
    "ax.set_title('Frequency of terms related to Health and Climate Change')\n",
    "ax.set_yticks(x)\n",
    "\n",
    "plt.plot()\n",
    "ax.set_yticklabels(DFc['speakerPolGroup'])\n",
    "ax.legend()\n",
    "\n",
    "#plt.show()\n",
    "\n",
    "plt.savefig(os.path.join(fp1, 'byPolGroup.png'), format = 'png', dpi=600, bbox_inches=\"tight\")"
   ]
  },
  {
   "cell_type": "code",
   "execution_count": 78,
   "metadata": {},
   "outputs": [
    {
     "data": {
      "image/png": "[encoded data removed]",
      "text/plain": [
       "<Figure size 432x288 with 1 Axes>"
      ]
     },
     "metadata": {
      "needs_background": "light"
     },
     "output_type": "display_data"
    }
   ],
   "source": [
    "####Political Party\n",
    "\n",
    "DFc = DF[['speakerParty', 'health', 'climate', 'intersection']]\n",
    "DFc = DFc.groupby(by = 'speakerParty', as_index = False).sum()\n",
    "\n",
    "x = np.arange(len(DFc))  # the label locations\n",
    "width = 0.25 # the width of the bars\n",
    "\n",
    "fig, ax = plt.subplots()\n",
    "rects0 = ax.barh(x - width, DFc['health'], width, label='Health')\n",
    "rects1 = ax.barh(x , DFc['climate'], width, label='Climate')\n",
    "rects2 = ax.barh(x + width, DFc['intersection'], width, label='Intersection')\n",
    "\n",
    "ax.set_xlabel('Term Frequency')\n",
    "ax.set_ylabel('Political Party')\n",
    "ax.set_title('Frequency of terms related to Health and Climate Change')\n",
    "ax.set_yticks(x)\n",
    "\n",
    "plt.plot()\n",
    "ax.set_yticklabels(DFc['speakerParty'], fontsize = 1)\n",
    "ax.legend()\n",
    "\n",
    "#fig.tight_layout()\n",
    "#plt.subplots_adjust(left=0, right = 2)\n",
    "#plt.show()\n",
    "plt.savefig(os.path.join(fp1, 'byParty.png'), format = 'png', dpi=1200, bbox_inches=\"tight\")"
   ]
  },
  {
   "cell_type": "code",
   "execution_count": null,
   "metadata": {},
   "outputs": [],
   "source": []
  },
  {
   "cell_type": "code",
   "execution_count": 6,
   "metadata": {},
   "outputs": [],
   "source": [
    "countries = []\n",
    "for i,row in DF.iterrows():\n",
    "    r = row.to_dict()\n",
    "    if r['speakerCountry'] not in countries:\n",
    "        countries.append(r['speakerCountry'])\n",
    "groups = []\n",
    "for i,row in DF.iterrows():\n",
    "    r = row.to_dict()\n",
    "    if r['speakerPolGroup'] not in groups:\n",
    "        groups.append(r['speakerPolGroup'])\n"
   ]
  },
  {
   "cell_type": "code",
   "execution_count": 8,
   "metadata": {},
   "outputs": [],
   "source": [
    "yearsmd = []\n",
    "for i,row in DF.iterrows():\n",
    "    r = str(row.to_dict()['speechTime'])\n",
    "    if r[0] == '(':\n",
    "        yearsmd.append(r[2:12])\n",
    "    else:\n",
    "        yearsmd.append(r[0:7])\n",
    "DF['yearMonthDay'] = yearsmd\n",
    "#DF = DF.iloc[234209:]\n",
    "#DF.insert(loc = 3,column = 'year', value = years)"
   ]
  },
  {
   "cell_type": "code",
   "execution_count": 12,
   "metadata": {},
   "outputs": [
    {
     "data": {
      "text/plain": [
       "<Figure size 432x288 with 0 Axes>"
      ]
     },
     "metadata": {},
     "output_type": "display_data"
    }
   ],
   "source": [
    "for country in countries:\n",
    "    mask = DF['speakerCountry'].values == country\n",
    "    df1 = DF[mask]\n",
    "    df2 = df1.groupby(['yearMonthDay'], as_index = False).sum()\n",
    "    df2 = df2.dropna(subset = ['yearMonthDay'])\n",
    "    df2 = df2[df2.yearMonthDay != 'nan']\n",
    "    df2 = df2[df2.yearMonthDay != None]\n",
    "    \n",
    "    plt.plot('yearMonthDay', 'health', data = df2, label = 'Health')\n",
    "    plt.plot('yearMonthDay', 'climate', data = df2, label = 'Climate')\n",
    "    plt.plot('yearMonthDay', 'intersection', data = df2, label = 'Intersection')\n",
    "    \n",
    "    plt.xlabel('session')\n",
    "    plt.ylabel('term incidence')\n",
    "    plt.title(country)\n",
    "    plt.grid()\n",
    "    plt.legend()\n",
    "    plt.xticks(rotation=45, fontsize=2)\n",
    "    #plt.show()\n",
    "    plt.savefig(os.path.join(fpc, country+'.png'), format = 'png', dpi=900, bbox_inches=\"tight\")\n",
    "    plt.clf()"
   ]
  },
  {
   "cell_type": "code",
   "execution_count": 73,
   "metadata": {},
   "outputs": [
    {
     "data": {
      "text/plain": [
       "<Figure size 432x288 with 0 Axes>"
      ]
     },
     "metadata": {},
     "output_type": "display_data"
    }
   ],
   "source": [
    "for group in groups:\n",
    "    mask = DF['speakerPolGroup'].values == group\n",
    "    df1 = DF[mask]\n",
    "    df2 = df1.groupby(['yearMonth'], as_index = False).sum()\n",
    "    df2 = df2.dropna(subset = ['yearMonth'])\n",
    "    df2 = df2[df2.yearMonth != 'nan']\n",
    "    df2 = df2[df2.yearMonth != None]\n",
    "    \n",
    "    plt.plot('yearMonth', 'health', data = df2, label = 'Health')\n",
    "    plt.plot('yearMonth', 'climate', data = df2, label = 'Climate')\n",
    "    plt.plot('yearMonth', 'intersection', data = df2, label = 'Intersection')\n",
    "    \n",
    "    plt.xlabel('year-month')\n",
    "    plt.ylabel('term incidence')\n",
    "    plt.title(group)\n",
    "    \n",
    "    plt.legend()\n",
    "    plt.xticks(rotation=45)\n",
    "    #plt.show()\n",
    "    s = ''.join(ch for ch in group if ch.isalnum())\n",
    "    plt.savefig(os.path.join(fpg, s+'.png'), format = 'png', dpi=600, bbox_inches=\"tight\")\n",
    "    plt.clf()"
   ]
  },
  {
   "cell_type": "code",
   "execution_count": null,
   "metadata": {
    "scrolled": true
   },
   "outputs": [],
   "source": []
  },
  {
   "cell_type": "code",
   "execution_count": 104,
   "metadata": {},
   "outputs": [
    {
     "name": "stdout",
     "output_type": "stream",
     "text": [
      "France\n",
      "Portugal\n",
      "Spain\n",
      "Germany\n",
      "Belgium\n",
      "Poland\n",
      "Netherlands\n",
      "Luxembourg\n",
      "Italy\n",
      "Finland\n",
      "Slovakia\n",
      "Czechia\n",
      "Austria\n",
      "Greece\n",
      "Lithuania\n",
      "Romania\n",
      "Ireland\n",
      "Malta\n",
      "Hungary\n",
      "Croatia\n",
      "Bulgaria\n"
     ]
    },
    {
     "name": "stderr",
     "output_type": "stream",
     "text": [
      "C:\\Users\\Asus\\Anaconda3\\lib\\site-packages\\ipykernel_launcher.py:11: RuntimeWarning: More than 20 figures have been opened. Figures created through the pyplot interface (`matplotlib.pyplot.figure`) are retained until explicitly closed and may consume too much memory. (To control this warning, see the rcParam `figure.max_open_warning`).\n",
      "  # This is added back by InteractiveShellApp.init_path()\n"
     ]
    },
    {
     "name": "stdout",
     "output_type": "stream",
     "text": [
      "Sweden\n",
      "Denmark\n",
      "Slovenia\n",
      "Cyprus\n",
      "Latvia\n",
      "Estonia\n"
     ]
    },
    {
     "data": {
      "text/plain": [
       "<Figure size 432x288 with 0 Axes>"
      ]
     },
     "metadata": {},
     "output_type": "display_data"
    },
    {
     "data": {
      "text/plain": [
       "<Figure size 432x288 with 0 Axes>"
      ]
     },
     "metadata": {},
     "output_type": "display_data"
    },
    {
     "data": {
      "text/plain": [
       "<Figure size 432x288 with 0 Axes>"
      ]
     },
     "metadata": {},
     "output_type": "display_data"
    },
    {
     "data": {
      "text/plain": [
       "<Figure size 432x288 with 0 Axes>"
      ]
     },
     "metadata": {},
     "output_type": "display_data"
    },
    {
     "data": {
      "text/plain": [
       "<Figure size 432x288 with 0 Axes>"
      ]
     },
     "metadata": {},
     "output_type": "display_data"
    },
    {
     "data": {
      "text/plain": [
       "<Figure size 432x288 with 0 Axes>"
      ]
     },
     "metadata": {},
     "output_type": "display_data"
    },
    {
     "data": {
      "text/plain": [
       "<Figure size 432x288 with 0 Axes>"
      ]
     },
     "metadata": {},
     "output_type": "display_data"
    },
    {
     "data": {
      "text/plain": [
       "<Figure size 432x288 with 0 Axes>"
      ]
     },
     "metadata": {},
     "output_type": "display_data"
    },
    {
     "data": {
      "text/plain": [
       "<Figure size 432x288 with 0 Axes>"
      ]
     },
     "metadata": {},
     "output_type": "display_data"
    },
    {
     "data": {
      "text/plain": [
       "<Figure size 432x288 with 0 Axes>"
      ]
     },
     "metadata": {},
     "output_type": "display_data"
    },
    {
     "data": {
      "text/plain": [
       "<Figure size 432x288 with 0 Axes>"
      ]
     },
     "metadata": {},
     "output_type": "display_data"
    },
    {
     "data": {
      "text/plain": [
       "<Figure size 432x288 with 0 Axes>"
      ]
     },
     "metadata": {},
     "output_type": "display_data"
    },
    {
     "data": {
      "text/plain": [
       "<Figure size 432x288 with 0 Axes>"
      ]
     },
     "metadata": {},
     "output_type": "display_data"
    },
    {
     "data": {
      "text/plain": [
       "<Figure size 432x288 with 0 Axes>"
      ]
     },
     "metadata": {},
     "output_type": "display_data"
    },
    {
     "data": {
      "text/plain": [
       "<Figure size 432x288 with 0 Axes>"
      ]
     },
     "metadata": {},
     "output_type": "display_data"
    },
    {
     "data": {
      "text/plain": [
       "<Figure size 432x288 with 0 Axes>"
      ]
     },
     "metadata": {},
     "output_type": "display_data"
    },
    {
     "data": {
      "text/plain": [
       "<Figure size 432x288 with 0 Axes>"
      ]
     },
     "metadata": {},
     "output_type": "display_data"
    },
    {
     "data": {
      "text/plain": [
       "<Figure size 432x288 with 0 Axes>"
      ]
     },
     "metadata": {},
     "output_type": "display_data"
    },
    {
     "data": {
      "text/plain": [
       "<Figure size 432x288 with 0 Axes>"
      ]
     },
     "metadata": {},
     "output_type": "display_data"
    },
    {
     "data": {
      "text/plain": [
       "<Figure size 432x288 with 0 Axes>"
      ]
     },
     "metadata": {},
     "output_type": "display_data"
    },
    {
     "data": {
      "text/plain": [
       "<Figure size 432x288 with 0 Axes>"
      ]
     },
     "metadata": {},
     "output_type": "display_data"
    },
    {
     "data": {
      "text/plain": [
       "<Figure size 432x288 with 0 Axes>"
      ]
     },
     "metadata": {},
     "output_type": "display_data"
    },
    {
     "data": {
      "text/plain": [
       "<Figure size 432x288 with 0 Axes>"
      ]
     },
     "metadata": {},
     "output_type": "display_data"
    },
    {
     "data": {
      "text/plain": [
       "<Figure size 432x288 with 0 Axes>"
      ]
     },
     "metadata": {},
     "output_type": "display_data"
    },
    {
     "data": {
      "text/plain": [
       "<Figure size 432x288 with 0 Axes>"
      ]
     },
     "metadata": {},
     "output_type": "display_data"
    },
    {
     "data": {
      "text/plain": [
       "<Figure size 432x288 with 0 Axes>"
      ]
     },
     "metadata": {},
     "output_type": "display_data"
    },
    {
     "data": {
      "text/plain": [
       "<Figure size 432x288 with 0 Axes>"
      ]
     },
     "metadata": {},
     "output_type": "display_data"
    }
   ],
   "source": [
    "for country in countries:\n",
    "    print(country)\n",
    "    mask = DF['speakerCountry'].values == country\n",
    "    DF1 = DF[mask]\n",
    "    DFc = DF1[['speakerParty', 'health', 'climate', 'intersection']]\n",
    "    DFc = DFc.groupby(by = 'speakerParty', as_index = False).sum()\n",
    "    \n",
    "    x = np.arange(len(DFc))  # the label locations\n",
    "    width = 0.25 # the width of the bars\n",
    "\n",
    "    fig, ax = plt.subplots()\n",
    "    rects0 = ax.barh(x - width, DFc['health'], width, label='Health')\n",
    "    rects1 = ax.barh(x , DFc['climate'], width, label='Climate')\n",
    "    rects2 = ax.barh(x + width, DFc['intersection'], width, label='Intersection')\n",
    "\n",
    "\n",
    "\n",
    "\n",
    "    # Add some text for labels, title and custom x-axis tick labels, etc.\n",
    "    ax.set_xlabel('Term Frequency')\n",
    "    ax.set_ylabel('Political Party')\n",
    "    ax.set_title('Frequency of terms related to Health and Climate Change')\n",
    "    ax.set_yticks(x)\n",
    "\n",
    "    plt.plot()\n",
    "    ax.set_yticklabels(DFc['speakerParty'], fontsize = 6)\n",
    "    ax.legend()\n",
    "   \n",
    "    \n",
    "\n",
    "    plt.savefig(os.path.join(fpp, country+'.png'), format = 'png', dpi=900, bbox_inches=\"tight\")\n",
    "    plt.clf()"
   ]
  },
  {
   "cell_type": "code",
   "execution_count": null,
   "metadata": {},
   "outputs": [],
   "source": []
  },
  {
   "cell_type": "code",
   "execution_count": null,
   "metadata": {},
   "outputs": [],
   "source": []
  },
  {
   "cell_type": "code",
   "execution_count": null,
   "metadata": {},
   "outputs": [],
   "source": []
  }
 ],
 "metadata": {
  "kernelspec": {
   "display_name": "Python 3",
   "language": "python",
   "name": "python3"
  },
  "language_info": {
   "codemirror_mode": {
    "name": "ipython",
    "version": 3
   },
   "file_extension": ".py",
   "mimetype": "text/x-python",
   "name": "python",
   "nbconvert_exporter": "python",
   "pygments_lexer": "ipython3",
   "version": "3.7.6"
  }
 },
 "nbformat": 4,
 "nbformat_minor": 4
}
