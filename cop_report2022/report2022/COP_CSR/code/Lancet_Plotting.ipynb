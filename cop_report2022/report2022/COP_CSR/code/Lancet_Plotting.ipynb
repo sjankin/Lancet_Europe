{
 "cells": [
  {
   "cell_type": "code",
   "execution_count": 1,
   "metadata": {
    "scrolled": true
   },
   "outputs": [
    {
     "name": "stderr",
     "output_type": "stream",
     "text": [
      "Matplotlib created a temporary config/cache directory at /tmp/matplotlib-as_g1bz2 because the default path (/.config/matplotlib) is not a writable directory; it is highly recommended to set the MPLCONFIGDIR environment variable to a writable directory, in particular to speed up the import of Matplotlib and to better support multiprocessing.\n"
     ]
    }
   ],
   "source": [
    "import numpy as np\n",
    "import os\n",
    "import sys\n",
    "import pandas as pd\n",
    "import pyreadr\n",
    "from plotnine import *\n",
    "from mizani.formatters import percent_format"
   ]
  },
  {
   "cell_type": "code",
   "execution_count": 2,
   "metadata": {},
   "outputs": [],
   "source": [
    "WHO = {\"African\":[\"Algeria\", \"Angola\", \"Benin\", \"Botswana\", \"Burkina Faso\", \"Burundi\",\n",
    "    \"Cameroon\", \"Cape Verde\", \"Central African Republic\", \n",
    "    \"Chad\", \"Comoros\", \"Ivory Coast\", \"Congo, the Democratic Republic of the\", \n",
    "    \"Equatorial Guinea\", \"Eritrea\", \"Ethiopia\", \"Gabon\", \"Gambia\", \"Ghana\", \"Guinea\", \n",
    "    \"Guinea-Bissau\", \"Kenya\", \"Lesotho\", \"Liberia\", \"Madagascar\", \"Malawi\", \"Mali\", \"Mauritania\", \n",
    "    \"Mauritius\", \"Mozambique\", \"Namibia\", \"Niger\", \"Nigeria\", \"Republic of the Congo\", \"Rwanda\", \n",
    "    \"Sao Tome and Principe\", \"Senegal\", \"Seychelles\", \"Sierra Leone\", \n",
    "    \"South Africa\", \"South Sudan\", \"Eswatini\", \"Togo\", \"Uganda\", \"Tanzania, United Republic of\", \"Zambia\", \"Zimbabwe\"],\n",
    "\"Americas\":[\"Antigua and Barbuda\", \"Argentina\", \"Bahamas\", \"Barbados\", \"Belize\", \n",
    "            \"Bolivia\", \"Brazil\", \"Canada\", \"Chile\", \"Colombia\", \n",
    "            \"Costa Rica\", \"Cuba\", \"Dominica\", \"Dominican Republic\", \n",
    "            \"Ecuador\", \"El Salvador\", \"Grenada\", \"Guatemala\", \"Guyana\", \n",
    "            \"Haiti\", \"Honduras\", \"Jamaica\", \"Mexico\", \"Nicaragua\", \"Panama\", \n",
    "            \"Paraguay\", \"Peru\", \"Saint Kitts and Nevis\", \"Saint Lucia\", \"Saint Vincent and the Grenadines\", \n",
    "            \"Suriname\", \"Trinidad and Tobago\", \"United States\", \"Uruguay\", \"Venezuela\"],\n",
    "\"South-East Asian\":[\"Bangladesh\",\"Bhutan\",\"Korea, Republic of\",\"India\",\"Indonesia\",\"Maldives\",\n",
    "                    \"Myanmar\", \"Nepal\", \"Sri Lanka\", \"Thailand\", \"Timor-Leste\"],\n",
    "\"European\":[\"Albania\",\"Andorra\",\"Armenia\",\"Austria\",\"Azerbaijan\",\"Belarus\",\"Belgium\",\"Bosnia and Herzegovina\",\n",
    "            \"Bulgaria\",\"Croatia\",\"Cyprus\",\"Czechia\",\"Denmark\",\n",
    "            \"Estonia\",\"Finland\",\"France\",\"Georgia\",\"Germany\",\"Greece\",\"Hungary\",\n",
    "            \"Iceland\",\"Ireland\",\"Israel\",\"Italy\",\"Kazakhstan\",\"Kyrgyzstan\",\"Latvia\",\"Lithuania\",\n",
    "            \"Luxembourg\",\"Malta\",\"Moldova, Republic of\",\"Monaco\",\"Montenegro\",\"Netherlands\",\n",
    "            \"North Macedonia\",\"Norway\",\"Poland\",\"Portugal\",\"Romania\",\"Russian Federation\",\"San Marino\",\n",
    "            \"Serbia\",\"Slovakia\",\"Slovenia\",\"Spain\",\"Sweden\",\"Switzerland\",\"Tajikistan\",\"Turkey\", \"Liechtenstein\",\n",
    "            \"Turkmenistan\",\"Ukraine\",\"United Kingdom\",\"Uzbekistan\", \"Kosovo\"],\n",
    "\"Eastern Mediterranean\":[\"Afghanistan\",\"Bahrain\",\"Djibouti\",\"Egypt\",\"Iran, Islamic Republic of\",\"Iraq\",\"Jordan\",\"Kuwait\",\"Lebanon\",\"Libya\",\"Morocco\",\"Oman\",\"Pakistan\",\"Palestine, State of\",\"Qatar\",\"Saudi Arabia\",\"Somalia\",\"Sudan\",\"Syrian Arab Republic\",\"Tunisia\",\"United Arab Emirates\",\"Yemen\"],\n",
    "\"Western Pacific\":[\"Australia\",\"Brunei\",\"Cambodia\",\"China\",\"Cook Islands\",\"Fiji\",\"Japan\",\"Kiribati\",\"Laos\",\"Malaysia\",\"Marshall Islands\",\"Micronesia\",\"Mongolia\",\"Nauru\",\"New Zealand\",\"Niue\",\"Palau\",\"Papua New Guinea\",\"Philippines\",\"Samoa\",\"Singapore\",\"Solomon Islands\",\"South Korea\",\"Tonga\",\"Tuvalu\",\"Vanuatu\",\"Viet Nam\"]}   "
   ]
  },
  {
   "cell_type": "code",
   "execution_count": 3,
   "metadata": {},
   "outputs": [],
   "source": [
    "sids = ['Anguilla' ,'American Samoa' ,'Jamaica' ,'Papua New Guinea' ,'British Virgin Islands' ,\n",
    "        'Kiribati' ,'Saint Vincent and the Grenadines' ,'Vanuatu' ,'Bahamas' ,\n",
    "        'Fiji' ,'Puerto Rico' ,'Timor-Leste' ,'Dominican Republic' ,'New Caledonia' ,\n",
    "        'United States Virgin Islands' ,'Comoros' ,'Aruba' ,'Federated States of Micronesia' ,'Netherlands Antilles' ,\n",
    "        'Solomon Islands' ,'Dominica' ,'Nauru' ,'Trinidad and Tobago' ,'Cape Verde' ,\n",
    "        'Belize' ,'Guam' ,'Saint Lucia' ,'Tuvalu' ,'Guyana' ,\n",
    "        'Northern Mariana Islands' ,'Seychelles' ,'Maldives' ,'Antigua and Barbuda' ,'Cook Islands' ,\n",
    "        'Montserrat' ,'Samoa' ,'Cuba' ,'Marshall Islands' ,'Suriname' ,\n",
    "        'Bahrain' ,'Barbados' ,'French Polynesia' ,'Saint Kitts and Nevis' ,'Tonga' ,\n",
    "        'Grenada' ,'Niue' ,'Sao Tome and Principe' ,'Guinea-Bissau' ,'Haiti' ,'Palau' ,'Singapore' ,'Mauritius']\n",
    "tier1_countries = [\"USA\", \"CHN\"]\n",
    "tier1_countries_eu = [\"Austria\", \"Belgium\", \"Bulgaria\", \"Croatia\",  \"Cyprus\", \n",
    "                      \"Czechia\",\"Denmark\", \"Estonia\", \"Finland\", \"France\",\"Germany\",\"Greece\", \n",
    "                      \"Hungary\", \"Ireland\", \"Italy\",\"Latvia\", \"Lithuania\",\n",
    "                      \"Luxembourg\", \"Malta\", \"Netherlands\", \"Poland\", \"Portugal\",\"Romania\", \n",
    "                      \"Slovakia\", \"Slovenia\",\"Spain\", \"Sweden\", \"United Kingdom\"]\n",
    "EEAandCO = [\"Austria\", \"Belgium\", \"Bulgaria\", \"Croatia\", \"Cyprus\", \n",
    "            \"Czechia\",\"Denmark\", \"Estonia\", \"Finland\", \"France\",\"Germany\",\"Greece\", \n",
    "            \"Hungary\", \"Iceland\",\"Ireland\", \"Italy\",\"Latvia\", \"Liechtenstein\", \"Lithuania\", \n",
    "            \"Luxembourg\", \"Malta\", \"Netherlands\", \"Norway\", \"Poland\", \"Portugal\",\"Romania\", \n",
    "            \"Slovakia\", \"Slovenia\",\"Spain\", \"Sweden\", \"Switzerland\", \"Turkey\", \n",
    "            \"Albania\",  \"Bosnia and Herzegovina\", \"Kosovo\", \"Montenegro\", \"North Macedonia\", \"Serbia\", \n",
    "            \"United Kingdom\"]\n",
    "tier2_countries = [\"POL\",\"AUS\", \"ZAF\", \"BRA\", \"IND\", \"IDN\", \"DEU\",\"FRA\",\"GBR\"] # "
   ]
  },
  {
   "cell_type": "code",
   "execution_count": 4,
   "metadata": {},
   "outputs": [],
   "source": [
    "hdi = pd.read_csv(\"2020_hdi.csv\", header = None)\n",
    "hdi.set_axis([\"index\", \"Country\", \"score\", \"HDI\"], axis=1, inplace=True)\n",
    "hdi.replace({\"Korea (Republic of)\": \"Korea, Republic of\", \"Russian Federation\":\"Russian Federation\",\n",
    "            'Bolivia (Plurinational State of)': \"Bolivia\", \"Congo (Democratic Republic of the)\": 'Congo, the Democratic Republic of the',\n",
    "            \"Tanzania (United Republic of)\": \"Tanzania, United Republic of\",\n",
    "            \"Iran (Islamic Republic of)\": \"Iran, Islamic Republic of\",\n",
    "            \"Moldova (Republic of)\": \"Moldova, Republic of\", \n",
    "            \"Venezuela (Bolivarian Republic of)\": \"Venezuela\",\n",
    "            \"Côte d'Ivoire\": \"Cote d'Ivoire\"}, inplace = True)"
   ]
  },
  {
   "cell_type": "code",
   "execution_count": 5,
   "metadata": {},
   "outputs": [],
   "source": [
    "# load data\n",
    "folder =   \"Multiglobal_result/\" # \"English_result/\" #     \"EU_result/\"  #\n",
    "df_health = pd.read_pickle(folder + 'df_kwic_health.pkl')\n",
    "df_climate = pd.read_pickle(folder + 'df_kwic_climate.pkl')\n",
    "df_intersection = pd.read_csv(folder + 'df_kwic_health_climate.csv')\n",
    "df_gender = pd.read_csv(folder + 'gender.csv')\n",
    "df_covid = pd.read_csv(folder + 'covid.csv')"
   ]
  },
  {
   "cell_type": "code",
   "execution_count": 6,
   "metadata": {},
   "outputs": [],
   "source": [
    "path = \"results/\" + folder\n",
    "\n",
    "#os.mkdir(path)"
   ]
  },
  {
   "cell_type": "code",
   "execution_count": null,
   "metadata": {},
   "outputs": [],
   "source": [
    "csr = pd.read_csv('Multiglobal_result/multiglobal_english_all.csv', chunksize = 10000)\n",
    "if folder == \"EU_result/\":\n",
    "    EU = pd.DataFrame()\n",
    "    for df in csr:\n",
    "        csr_mask = [True if i in EEAandCO else False for i in df.Country]\n",
    "        EU = EU.append(df[csr_mask])\n",
    "    csr = EU\n",
    "elif folder == \"English_result/\":\n",
    "    EN = pd.DataFrame()\n",
    "    for df in csr:\n",
    "        EN = EN.append(df[df.English >0])\n",
    "    csr = EN\n",
    "else:\n",
    "    glob = pd.DataFrame()\n",
    "    for df in csr:\n",
    "        glob = glob.append(df)\n",
    "    csr = glob"
   ]
  },
  {
   "cell_type": "code",
   "execution_count": null,
   "metadata": {},
   "outputs": [],
   "source": [
    "dd = csr[['Participant', 'Sector', 'Country', 'Year', 'Id', 'code', \"English\"]]"
   ]
  },
  {
   "cell_type": "code",
   "execution_count": null,
   "metadata": {},
   "outputs": [],
   "source": [
    "csr = dd.merge(hdi[['Country', \"HDI\"]], on = \"Country\", how = \"left\")"
   ]
  },
  {
   "cell_type": "code",
   "execution_count": null,
   "metadata": {},
   "outputs": [],
   "source": [
    "def sids_merg(row):\n",
    "    sids_sign = None\n",
    "    if row[\"Country\"] in sids:\n",
    "        sids_sign = \"SIDS\"\n",
    "    elif (row[\"Country\"] in tier1_countries_eu) or (row[\"code\"] in tier1_countries):\n",
    "        sids_sign = \"Tier 1\"\n",
    "    elif row[\"code\"] in tier2_countries:\n",
    "        sids_sign = \"Tier 2\"\n",
    "    return sids_sign\n",
    "csr[\"SIDS\"] = csr.apply(lambda x: sids_merg(x), axis = 1)"
   ]
  },
  {
   "cell_type": "code",
   "execution_count": null,
   "metadata": {},
   "outputs": [],
   "source": [
    "csr[csr[\"SIDS\"].isna()].Country.unique()"
   ]
  },
  {
   "cell_type": "code",
   "execution_count": null,
   "metadata": {},
   "outputs": [],
   "source": [
    "def who_seatch(x):\n",
    "    region = None\n",
    "    for k, v in WHO.items():\n",
    "        if x in v:\n",
    "            region = k \n",
    "    if not region:\n",
    "        print(x)\n",
    "    return region\n",
    "csr[\"WHO\"] = csr.Country.apply(who_seatch)"
   ]
  },
  {
   "cell_type": "code",
   "execution_count": null,
   "metadata": {},
   "outputs": [],
   "source": [
    "def agg_func(df, key = \"intersection\"):\n",
    "    agg_inter = pd.DataFrame(df.groupby(\"Id\").count().key_word).reset_index()\n",
    "    agg_inter[\"Id\"] = agg_inter[\"Id\"].astype(\"int\")\n",
    "    agg_inter.rename(columns = {\"key_word\": key}, inplace = True)\n",
    "    return agg_inter"
   ]
  },
  {
   "cell_type": "code",
   "execution_count": null,
   "metadata": {},
   "outputs": [],
   "source": [
    "csr = csr[csr.Year > 2010]\n",
    "print(csr.shape)\n",
    "reference = pd.merge(csr[[\"Participant\",'Sector', 'Year', 'Id', \"code\", \"Country\", \"WHO\", \"HDI\", \"SIDS\"]], agg_func(df_intersection, \"intersection\"), on = \"Id\", how = \"left\")\n",
    "reference = pd.merge(reference, agg_func(df_health, \"health\"), on = \"Id\", how = \"left\")\n",
    "reference = pd.merge(reference, agg_func(df_climate, \"climate\"), on = \"Id\", how = \"left\")\n",
    "reference = pd.merge(reference, agg_func(df_gender, \"gender\"), on = \"Id\", how = \"left\")\n",
    "reference = pd.merge(reference, agg_func(df_covid, \"covid\"), on = \"Id\", how = \"left\")\n",
    "reference = reference.fillna(0)\n",
    "#reference[\"n_company_year\"] = reference.groupby([\"Year\"]).Id.transform(\"nunique\")\n",
    "reference[\"total_texts\"] = reference.groupby([\"Year\", \"Sector\"]).Id.transform(\"nunique\")"
   ]
  },
  {
   "cell_type": "code",
   "execution_count": null,
   "metadata": {},
   "outputs": [],
   "source": [
    "language = pd.read_csv(\"./globalmulti/nonEU_langlist.csv\")\n",
    "language = language[[\"Id\", \"lang\"]]\n",
    "language_EU = pd.read_csv(\"./EU_lang.csv\")\n",
    "language = language.append(language_EU)\n",
    "lang = pd.merge(csr[[\"Id\", \"English\"]], language, on = \"Id\", how = \"left\")\n",
    "lang = lang.fillna(\"en\")\n",
    "lang.loc[ lang[(lang.English == 0) & (lang.lang == \"en\")].index, \"lang\"] = \"en-mixed\"\n",
    "lang.groupby(\"lang\").count().English.sort_values()"
   ]
  },
  {
   "cell_type": "code",
   "execution_count": null,
   "metadata": {},
   "outputs": [],
   "source": []
  },
  {
   "cell_type": "code",
   "execution_count": null,
   "metadata": {},
   "outputs": [],
   "source": [
    "reference[\"intersection_texts\"] = reference.groupby([\"Year\", \"Sector\", \"Participant\"]).intersection.transform(\"sum\") > 0\n",
    "reference[\"climate_texts\"] = reference.groupby([\"Year\", \"Sector\", \"Participant\"]).climate.transform(\"sum\") > 0\n",
    "reference[\"health_texts\"] = reference.groupby([\"Year\", \"Sector\", \"Participant\"]).health.transform(\"sum\") > 0"
   ]
  },
  {
   "cell_type": "code",
   "execution_count": null,
   "metadata": {},
   "outputs": [],
   "source": [
    "avg_sector = reference[reference.Year == 2021].groupby(\"Sector\").agg({\"intersection\":\"mean\", \"health\":\"mean\", \"climate\":\"mean\",}).reset_index()\n",
    "avg_sector = avg_sector.round(2).sort_values(\"Sector\")"
   ]
  },
  {
   "cell_type": "code",
   "execution_count": null,
   "metadata": {},
   "outputs": [],
   "source": [
    "sum_1 = reference.agg({\"Participant\": [\"count\", \"nunique\",],}).T.reset_index(drop = True)\n",
    "sum_2 = reference.agg({ \"health_texts\": [\"sum\"], \"climate_texts\": \"sum\", \"intersection_texts\": \"sum\", }).reset_index(drop = True)"
   ]
  },
  {
   "cell_type": "code",
   "execution_count": null,
   "metadata": {},
   "outputs": [],
   "source": [
    "summary = pd.concat([sum_1, sum_2, pd.DataFrame(sum_2.squeeze()/sum_1[\"count\"].values).T], axis=1, )\n",
    "summary = summary.round({\"health_texts\":2,\"climate_texts\": 2, \"intersection_texts\": 3})\n",
    "summary.set_axis([\"Companies (N)\", \"Companies (Unique)\", \"Health, (N)\", \"Climate, (N)\", \"Intersection, (N)\", \n",
    "                  \"Health, %\", \"Climate, %\", \"Intersection, %\"], axis=1, inplace=True)"
   ]
  },
  {
   "cell_type": "code",
   "execution_count": null,
   "metadata": {},
   "outputs": [],
   "source": [
    "# 0_0_data_summary\n",
    "summary.to_csv(path + '0_0_data_summary.csv', index = False)\n",
    "summary"
   ]
  },
  {
   "cell_type": "code",
   "execution_count": null,
   "metadata": {
    "scrolled": true
   },
   "outputs": [],
   "source": [
    "sum_1 = reference.groupby([\"Year\"]).agg({\"Participant\": \"count\",}).reset_index()\n",
    "sum_1.set_axis([\"Year\", \"Companies (N)\"], axis=1, inplace=True)\n",
    "sum_2 = reference.groupby([\"Year\"]).agg({ \"climate_texts\": \"sum\",\"health_texts\": [\"sum\"], \"intersection_texts\": \"sum\", }).reset_index(drop = True)\n",
    "sum_2.set_axis([\"Climate (N)\", \"Health (N)\", \"Intersection (N)\"], axis=1, inplace=True)\n",
    "sum_3 = pd.DataFrame(sum_2.apply(lambda x: x/sum_1[\"Companies (N)\"]).round(2))\n",
    "sum_3.set_axis([\"Climate (Prop)\", \"Health (Prop)\", \"Intersection (Prop)\"], axis=1, inplace=True)\n",
    "yearly_breakdown = pd.concat([sum_1, sum_2, sum_3], axis=1, )\n",
    "yearly_breakdown.to_csv(path + '0_1_yearly_breakdown.csv', index = False)\n",
    "yearly_breakdown"
   ]
  },
  {
   "cell_type": "code",
   "execution_count": null,
   "metadata": {},
   "outputs": [],
   "source": [
    "reference_health = reference[reference.Sector == \"Health Care Equipment & Ser...\"]\n",
    "sum_1 = reference_health.groupby([\"Year\"]).agg({\"Participant\": \"count\",}).reset_index()\n",
    "sum_1.set_axis([\"Year\", \"Companies (N)\"], axis=1, inplace=True)\n",
    "sum_2 = reference_health.groupby([\"Year\"]).agg({ \"climate_texts\": \"sum\",\"health_texts\": [\"sum\"], \"intersection_texts\": \"sum\", }).reset_index(drop = True)\n",
    "sum_2.set_axis([\"Climate (N)\", \"Health (N)\", \"Intersection (N)\"], axis=1, inplace=True)\n",
    "sum_3 = pd.DataFrame(sum_2.apply(lambda x: x/sum_1[\"Companies (N)\"]).round(2))\n",
    "sum_3.set_axis([\"Climate (Prop)\", \"Health (Prop)\", \"Intersection (Prop)\"], axis=1, inplace=True)\n",
    "yearly_breakdown_health = pd.concat([sum_1, sum_2, sum_3], axis=1, )"
   ]
  },
  {
   "cell_type": "code",
   "execution_count": null,
   "metadata": {},
   "outputs": [],
   "source": [
    "# not company check but document check\n",
    "sum_1 = reference.groupby([\"Year\", \"WHO\"]).agg({\"Participant\": \"count\",}).reset_index()\n",
    "sum_1.set_axis([\"Year\", \"WHO\", \"Total documents\"], axis=1, inplace=True)\n",
    "sum_2 = reference.groupby([\"Year\", \"WHO\"]).agg({ \"climate_texts\": \"sum\",\"health_texts\": [\"sum\"], \"intersection_texts\": \"sum\", })\n",
    "sum_2.set_axis([\"Climate\", \"Health\", \"Intersection\"], axis=1, inplace=True)\n",
    "who_prop = pd.DataFrame(sum_2.apply(lambda x: x/sum_1[\"Total documents\"].values).round(2)).reset_index()\n",
    "who_prop = who_prop[who_prop.WHO != 0].sort_values([\"WHO\", \"Year\"])"
   ]
  },
  {
   "cell_type": "code",
   "execution_count": null,
   "metadata": {},
   "outputs": [],
   "source": [
    "sum_1 = reference_health.groupby([\"Year\", \"WHO\"]).agg({\"Participant\": \"count\",}).reset_index()\n",
    "sum_1.set_axis([\"Year\", \"WHO\", \"Total documents\"], axis=1, inplace=True)\n",
    "sum_2 = reference_health.groupby([\"Year\", \"WHO\"]).agg({ \"climate_texts\": \"sum\",\"health_texts\": [\"sum\"], \"intersection_texts\": \"sum\", })\n",
    "sum_2.set_axis([\"Climate\", \"Health\", \"Intersection\"], axis=1, inplace=True)\n",
    "who_prop_health = pd.DataFrame(sum_2.apply(lambda x: x/sum_1[\"Total documents\"].values).round(2)).reset_index()\n",
    "who_prop_health = who_prop_health[who_prop_health.WHO != 0].sort_values([\"WHO\", \"Year\"])"
   ]
  },
  {
   "cell_type": "code",
   "execution_count": null,
   "metadata": {},
   "outputs": [],
   "source": [
    "# not company check but document check\n",
    "sum_1 = reference.groupby([\"Year\", \"SIDS\"]).agg({\"Participant\": \"count\",}).reset_index()\n",
    "sum_1.set_axis([\"Year\", \"SIDS\", \"Total documents\"], axis=1, inplace=True)\n",
    "sum_2 = reference.groupby([\"Year\", \"SIDS\"]).agg({ \"climate_texts\": \"sum\",\"health_texts\": [\"sum\"], \"intersection_texts\": \"sum\", })\n",
    "sum_2.set_axis([\"Climate\", \"Health\", \"Intersection\"], axis=1, inplace=True)\n",
    "sids_prop = pd.DataFrame(sum_2.apply(lambda x: x/sum_1[\"Total documents\"].values).round(2)).reset_index()\n",
    "sids_prop = sids_prop[sids_prop.SIDS != 0].sort_values([\"SIDS\", \"Year\"])"
   ]
  },
  {
   "cell_type": "code",
   "execution_count": null,
   "metadata": {},
   "outputs": [],
   "source": [
    "# not company check but document check\n",
    "sum_1 = reference_health.groupby([\"Year\", \"SIDS\"]).agg({\"Participant\": \"count\",}).reset_index()\n",
    "sum_1.set_axis([\"Year\", \"SIDS\", \"Total documents\"], axis=1, inplace=True)\n",
    "sum_2 = reference_health.groupby([\"Year\", \"SIDS\"]).agg({ \"climate_texts\": \"sum\",\"health_texts\": [\"sum\"], \"intersection_texts\": \"sum\", })\n",
    "sum_2.set_axis([\"Climate\", \"Health\", \"Intersection\"], axis=1, inplace=True)\n",
    "sids_prop_health = pd.DataFrame(sum_2.apply(lambda x: x/sum_1[\"Total documents\"].values).round(2)).reset_index()\n",
    "sids_prop_health = sids_prop_health[sids_prop_health.SIDS != 0].sort_values([\"SIDS\", \"Year\"])"
   ]
  },
  {
   "cell_type": "code",
   "execution_count": null,
   "metadata": {},
   "outputs": [],
   "source": [
    "# not company check but document check\n",
    "sum_1 = reference.groupby([\"Year\", \"HDI\"]).agg({\"Participant\": \"count\",}).reset_index()\n",
    "sum_1.set_axis([\"Year\", \"HDI\", \"Total documents\"], axis=1, inplace=True)\n",
    "sum_2 = reference.groupby([\"Year\", \"HDI\"]).agg({ \"climate_texts\": \"sum\",\"health_texts\": [\"sum\"], \"intersection_texts\": \"sum\", })\n",
    "sum_2.set_axis([\"Climate\", \"Health\", \"Intersection\"], axis=1, inplace=True)\n",
    "hdi_prop = pd.DataFrame(sum_2.apply(lambda x: x/sum_1[\"Total documents\"].values).round(2)).reset_index()\n",
    "hdi_prop = hdi_prop[hdi_prop.HDI != 0].sort_values([\"HDI\", \"Year\"])"
   ]
  },
  {
   "cell_type": "code",
   "execution_count": null,
   "metadata": {},
   "outputs": [],
   "source": [
    "sum_1 = reference_health.groupby([\"Year\", \"HDI\"]).agg({\"Participant\": \"count\",}).reset_index()\n",
    "sum_1.set_axis([\"Year\", \"HDI\", \"Total documents\"], axis=1, inplace=True)\n",
    "sum_2 = reference_health.groupby([\"Year\", \"HDI\"]).agg({ \"climate_texts\": \"sum\",\"health_texts\": [\"sum\"], \"intersection_texts\": \"sum\", })\n",
    "sum_2.set_axis([\"Climate\", \"Health\", \"Intersection\"], axis=1, inplace=True)\n",
    "hdi_prop_health = pd.DataFrame(sum_2.apply(lambda x: x/sum_1[\"Total documents\"].values).round(2)).reset_index()\n",
    "hdi_prop_health = hdi_prop_health[hdi_prop_health.HDI != 0].sort_values([\"HDI\", \"Year\"])"
   ]
  },
  {
   "cell_type": "code",
   "execution_count": null,
   "metadata": {},
   "outputs": [],
   "source": [
    "sum_1 = reference.groupby([\"Sector\"]).agg({\"Participant\": \"count\",}).reset_index()\n",
    "sum_1.set_axis([\"Sector\", \"Total documents\"], axis=1, inplace=True)\n",
    "sum_2 = reference.groupby([\"Sector\"]).agg({ \"climate_texts\": \"sum\",\"health_texts\": [\"sum\"], \"intersection_texts\": \"sum\", })\n",
    "sum_2.set_axis([\"Climate\", \"Health\", \"Intersection\"], axis=1, inplace=True)\n",
    "sector_prop = pd.DataFrame(sum_2.apply(lambda x: x/sum_1[\"Total documents\"].values).round(2)).reset_index()\n",
    "sector_prop = sector_prop.sort_values([\"Sector\"])"
   ]
  },
  {
   "cell_type": "code",
   "execution_count": null,
   "metadata": {},
   "outputs": [],
   "source": [
    "reference_df_sector = reference.groupby([\"Sector\"]).agg({\"intersection\": \"sum\",\n",
    "                                           \"climate\": \"sum\",\n",
    "                                           \"health\":\"sum\", }).reset_index()\n",
    "reference_who = reference.groupby([\"WHO\", \"Year\"]).agg({\"intersection\": \"sum\",\n",
    "                                           \"climate\": \"sum\",\n",
    "                                           \"health\":\"sum\", })\n",
    "reference_who[\"sum\"] = reference_who[\"intersection\"] + reference_who[\"climate\"] + reference_who[\"health\"]\n",
    "reference_who.reset_index(inplace = True)\n",
    "reference_hdi = reference.groupby([\"HDI\", \"Year\"]).agg({\"intersection\": \"sum\",\n",
    "                                           \"climate\": \"sum\",\n",
    "                                           \"health\":\"sum\", }).reset_index()\n",
    "reference_hdi.HDI = pd.Categorical(reference_hdi.HDI, categories=['LOW HUMAN DEVELOPMENT',\n",
    "       'MEDIUM HUMAN DEVELOPMENT','HIGH HUMAN DEVELOPMENT',  'VERY HIGH HUMAN DEVELOPMENT'], ordered=True)\n",
    "reference_hdi.dropna(inplace = True)\n",
    "\n",
    "reference_hdi_health = reference_health.groupby([\"HDI\", \"Year\"]).agg({\"intersection\": \"sum\",\n",
    "                                           \"climate\": \"sum\",\n",
    "                                           \"health\":\"sum\", }).reset_index()\n",
    "reference_hdi_health.HDI = pd.Categorical(reference_hdi_health.HDI, categories=['LOW HUMAN DEVELOPMENT',\n",
    "       'MEDIUM HUMAN DEVELOPMENT','HIGH HUMAN DEVELOPMENT',  'VERY HIGH HUMAN DEVELOPMENT'], ordered=True)\n",
    "reference_hdi_health.dropna(inplace = True)\n",
    "\n",
    "reference_sids = reference.groupby([\"SIDS\", \"Year\"]).agg({\"intersection\": \"sum\",\n",
    "                                           \"climate\": \"sum\",\n",
    "                                           \"health\":\"sum\", }).reset_index()\n",
    "reference_sids.SIDS = pd.Categorical(reference_sids.SIDS, categories=['SIDS',\n",
    "       'Tier 1','Tier 2',], ordered=True)\n",
    "reference_sids.dropna(inplace = True)\n",
    "\n",
    "reference_sids_health = reference_health.groupby([\"SIDS\", \"Year\"]).agg({\"intersection\": \"sum\",\n",
    "                                           \"climate\": \"sum\",\n",
    "                                           \"health\":\"sum\", }).reset_index()\n",
    "reference_sids_health.SIDS = pd.Categorical(reference_sids_health.SIDS, categories=['SIDS',\n",
    "       'Tier 1','Tier 2',], ordered=True)\n",
    "reference_sids_health.dropna(inplace = True)"
   ]
  },
  {
   "cell_type": "code",
   "execution_count": null,
   "metadata": {
    "scrolled": true
   },
   "outputs": [],
   "source": [
    "yearly_breakdown[[\"Year\",\"Climate (Prop)\", \"Health (Prop)\", \"Intersection (Prop)\"]].to_csv(path+ \"1a_prop_of_companies.csv\")\n",
    "plt = pd.melt(yearly_breakdown[[\"Year\",\"Climate (Prop)\", \"Health (Prop)\", \"Intersection (Prop)\"]], id_vars=['Year'] )\n",
    "plt.variable = pd.Categorical(plt.variable, categories=[\"Intersection (Prop)\", \"Climate (Prop)\", \"Health (Prop)\"], ordered=True)\n",
    "a1 = ggplot(plt, aes(x = \"Year\", y = \"value\", color = \"variable\")) + \\\n",
    "geom_path(aes(linetype = \"variable\")) + \\\n",
    "scale_linetype_manual(values = (\"solid\", 'dashdot', \"--\")) + \\\n",
    "annotate(\"text\", x = 2013, y = 0.85,# 0.8,  \n",
    "         label = \"Health\", color = \"#619cff\") + \\\n",
    "annotate(\"text\", x = 2014, y = 0.5,#0.4,\n",
    "         label = \"Climate Change\", color = \"darkgreen\") + \\\n",
    "annotate(\"text\", x = 2012, y = 0.3, \n",
    "         label = \"Intersection\", color = \"red\") + \\\n",
    "scale_y_continuous(labels = percent_format(), limits = (0, 1)) + \\\n",
    "theme_minimal() + \\\n",
    "theme(legend_position = \"none\") + \\\n",
    "scale_colour_manual(values=(\"red\", \"darkgreen\", \"#619cff\" )) +\\\n",
    "scale_x_continuous(breaks=(2012,2014,2016,2018, 2020), ) +\\\n",
    "labs(y = \"Proportion of companies, %\") \n",
    "a1.save(path +'1a_prop_of_companies.png')\n",
    "a1.save(path +'1a_prop_of_companies.pdf')\n",
    "a1"
   ]
  },
  {
   "cell_type": "code",
   "execution_count": null,
   "metadata": {},
   "outputs": [],
   "source": [
    "yearly_breakdown_health[[\"Year\",\"Climate (Prop)\", \"Health (Prop)\", \"Intersection (Prop)\"]].to_csv(path+ \"2p_prop_of_companies.csv\")\n",
    "plt = pd.melt(yearly_breakdown_health[[\"Year\",\"Climate (Prop)\", \"Health (Prop)\", \"Intersection (Prop)\"]], id_vars=['Year'] )\n",
    "plt.variable = pd.Categorical(plt.variable, categories=[\"Intersection (Prop)\", \"Climate (Prop)\", \"Health (Prop)\"], ordered=True)\n",
    "p2 = ggplot(plt, aes(x = \"Year\", y = \"value\", color = \"variable\")) + \\\n",
    "geom_path(aes(linetype = \"variable\")) + \\\n",
    "scale_linetype_manual(values = (\"solid\", 'dashdot', \"--\")) + \\\n",
    "annotate(\"text\", x = 2013, y = 0.75,# 0.8,  \n",
    "         label = \"Health\", color = \"#619cff\") + \\\n",
    "annotate(\"text\", x = 2014, y = 0.6,#0.4,\n",
    "         label = \"Climate Change\", color = \"darkgreen\") + \\\n",
    "annotate(\"text\", x = 2012, y = 0.2, \n",
    "         label = \"Intersection\", color = \"red\") + \\\n",
    "scale_y_continuous(labels = percent_format(), limits = (0, 1)) + \\\n",
    "theme_minimal() + \\\n",
    "theme(legend_position = \"none\") + \\\n",
    "scale_colour_manual(values=(\"red\", \"darkgreen\", \"#619cff\" )) +\\\n",
    "scale_x_continuous(breaks=(2012,2014,2016,2018, 2020), ) +\\\n",
    "labs(y = \"Proportion of companies, %\") \n",
    "p2.save(path +'2p_prop_of_companies.png')\n",
    "p2.save(path +'2p_prop_of_companies.pdf')\n",
    "p2"
   ]
  },
  {
   "cell_type": "code",
   "execution_count": null,
   "metadata": {},
   "outputs": [],
   "source": [
    "# breaks = (20000, 40000, 60000, 80000, 100000, 120000, 140000, 160000, 180000, 200000)\n",
    "b1csv = reference.groupby(\"Year\").agg({\"intersection\":\"sum\", \"health\":\"sum\", \"climate\":\"sum\"}).reset_index()\n",
    "b1csv.to_csv(path+ \"1b_number_of_references.csv\")\n",
    "plt = pd.melt(b1csv, id_vars=['Year'] )\n",
    "plt.variable = pd.Categorical(plt.variable, categories=[\"intersection\", \"climate\", \"health\"], ordered=True)\n",
    "b1 = ggplot(plt, aes(x = \"Year\", y = \"value\", color = \"variable\")) + \\\n",
    "geom_path(aes(linetype = \"variable\")) + \\\n",
    "scale_linetype_manual(values = (\"solid\", 'dashdot', \"--\")) + \\\n",
    "annotate(\"text\", x = 2013, y = 40000, label = \"Health\", color = \"#619cff\") + \\\n",
    "annotate(\"text\", x = 2014, y = 20000, label = \"Climate Change\", color = \"darkgreen\") + \\\n",
    "annotate(\"text\", x = 2012, y = 5000, label = \"Intersection\", color = \"red\") + \\\n",
    "scale_y_continuous(limits = (0, None), ) + \\\n",
    "theme_minimal() + \\\n",
    "theme(legend_position = \"none\") + \\\n",
    "scale_colour_manual(values=(\"red\", \"darkgreen\", \"#619cff\" )) +\\\n",
    "scale_x_continuous(breaks=(2012,2014,2016,2018, 2020), ) +\\\n",
    "labs(y = \"Total number of references\") \n",
    "b1.save(path +'1b_number_of_references.png')\n",
    "b1.save(path +'1b_number_of_references.pdf')\n",
    "b1"
   ]
  },
  {
   "cell_type": "code",
   "execution_count": null,
   "metadata": {
    "scrolled": true
   },
   "outputs": [],
   "source": [
    "q2csv = reference_health.groupby(\"Year\").agg({\"intersection\":\"sum\", \"health\":\"sum\", \"climate\":\"sum\"}).reset_index()\n",
    "q2csv.to_csv(path+ \"2q_number_of_references.csv\")\n",
    "plt = pd.melt(q2csv, id_vars=['Year'] )\n",
    "plt.variable = pd.Categorical(plt.variable, categories=[\"intersection\", \"climate\", \"health\"], ordered=True)\n",
    "q2 = ggplot(plt, aes(x = \"Year\", y = \"value\", color = \"variable\")) + \\\n",
    "geom_path(aes(linetype = \"variable\")) + \\\n",
    "scale_linetype_manual(values = (\"solid\", 'dashdot', \"--\")) + \\\n",
    "annotate(\"text\", x = 2015, y = 1900, label = \"Health\", color = \"#619cff\") + \\\n",
    "annotate(\"text\", x = 2017, y = 700, label = \"Climate Change\", color = \"darkgreen\") + \\\n",
    "annotate(\"text\", x = 2014, y = 500, label = \"Intersection\", color = \"red\") + \\\n",
    "scale_y_continuous(limits = (0, None), ) + \\\n",
    "theme_minimal() + \\\n",
    "theme(legend_position = \"none\") + \\\n",
    "scale_colour_manual(values=(\"red\", \"darkgreen\", \"#619cff\" )) +\\\n",
    "scale_x_continuous(breaks=(2012,2014,2016,2018, 2020), ) +\\\n",
    "labs(y = \"Total number of references\") \n",
    "# 1b_number_of_references\n",
    "q2.save(path +'2q_number_of_references.png')\n",
    "q2.save(path +'2q_number_of_references.pdf')\n",
    "q2"
   ]
  },
  {
   "cell_type": "code",
   "execution_count": null,
   "metadata": {},
   "outputs": [],
   "source": [
    "c1csv = reference.groupby(\"Year\").agg({\"intersection\":\"sum\"}).reset_index()\n",
    "c1csv.to_csv(path+ \"1c_number_of_references_intersection.csv\")\n",
    "plt = pd.melt(c1csv, id_vars=['Year'] )\n",
    "c1 = ggplot(plt, aes(x = \"Year\", y = \"value\", color = \"variable\")) + \\\n",
    "geom_path(aes(linetype = \"variable\")) + \\\n",
    "annotate(\"text\", x = 2012, y = 2000, label = \"Intersection\", color = \"red\") + \\\n",
    "scale_y_continuous(limits = (0, None),) + \\\n",
    "theme_minimal() + \\\n",
    "theme(legend_position = \"none\") + \\\n",
    "scale_colour_manual(values=(\"red\",)) +\\\n",
    "scale_x_continuous(breaks=(2012,2014,2016,2018, 2020), ) +\\\n",
    "labs(y = \"Total number of references\") \n",
    "c1.save(path +'1c_number_of_references_intersection.png')\n",
    "c1.save(path +'1c_number_of_references_intersection.pdf')\n",
    "c1"
   ]
  },
  {
   "cell_type": "code",
   "execution_count": null,
   "metadata": {},
   "outputs": [],
   "source": [
    "r2csv = reference_health.groupby(\"Year\").agg({\"intersection\":\"sum\"}).reset_index()\n",
    "r2csv.to_csv(path+ \"2r_number_of_references_intersection.csv\")\n",
    "plt = pd.melt(r2csv, id_vars=['Year'] )\n",
    "r2 = ggplot(plt, aes(x = \"Year\", y = \"value\", color = \"variable\")) + \\\n",
    "geom_path(aes(linetype = \"variable\")) + \\\n",
    "annotate(\"text\", x = 2012, y = 50, label = \"Intersection\", color = \"red\") + \\\n",
    "scale_y_continuous(limits = (0, None),) + \\\n",
    "theme_minimal() + \\\n",
    "theme(legend_position = \"none\") + \\\n",
    "scale_colour_manual(values=(\"red\",)) +\\\n",
    "scale_x_continuous(breaks=(2012,2014,2016,2018, 2020), ) +\\\n",
    "labs(y = \"Total number of references\") \n",
    "r2.save(path +'2r_number_of_references_intersection.png')\n",
    "r2.save(path +'2r_number_of_references_intersection.pdf')\n",
    "r2"
   ]
  },
  {
   "cell_type": "code",
   "execution_count": null,
   "metadata": {},
   "outputs": [],
   "source": [
    "yearly_breakdown[[\"Year\", \"Intersection (Prop)\"]].to_csv(path+ \"1d_proportion_intersection.csv\")\n",
    "plt = pd.melt(yearly_breakdown[[\"Year\", \"Intersection (Prop)\"]], id_vars=['Year'] )\n",
    "plt.variable = pd.Categorical(plt.variable, categories=[\"Intersection (Prop)\",], ordered=True)\n",
    "d1 = ggplot(plt, aes(x = \"Year\", y = \"value\", color = \"variable\")) + \\\n",
    "geom_path(aes(linetype = \"variable\")) + \\\n",
    "annotate(\"text\", x = 2012, y = 0.1, label = \"Intersection\", color = \"red\") + \\\n",
    "scale_y_continuous(labels = percent_format(), limits = (0, None)) + \\\n",
    "theme_minimal() + \\\n",
    "theme(legend_position = \"none\") + \\\n",
    "scale_colour_manual(values=(\"red\",  )) +\\\n",
    "scale_x_continuous(breaks=(2012,2014,2016,2018, 2020), ) +\\\n",
    "labs(y = \"Proportion of companies, %\") \n",
    "d1.save(path +'1d_proportion_intersection.png')\n",
    "d1.save(path +'1d_proportion_intersection.pdf')\n",
    "d1"
   ]
  },
  {
   "cell_type": "code",
   "execution_count": null,
   "metadata": {
    "scrolled": true
   },
   "outputs": [],
   "source": [
    "e1csv = reference.groupby(\"Year\").agg({\"intersection\":\"mean\", \"health\":\"mean\", \"climate\":\"mean\"}).reset_index()\n",
    "e1csv.to_csv(path+ \"1e_avg_references.csv\")\n",
    "plt = pd.melt(e1csv, id_vars=['Year'] )\n",
    "plt.variable = pd.Categorical(plt.variable, categories=[\"intersection\", \"climate\", \"health\"], ordered=True)\n",
    "e1 = ggplot(plt, aes(x = \"Year\", y = \"value\", color = \"variable\")) + \\\n",
    "geom_path(aes(linetype = \"variable\")) + \\\n",
    "scale_linetype_manual(values = (\"solid\", 'dashdot', \"--\")) + \\\n",
    "annotate(\"text\", x = 2013, y = 17, label = \"Health\", color = \"#619cff\") + \\\n",
    "annotate(\"text\", x = 2014, y = 10, label = \"Climate Change\", color = \"darkgreen\") + \\\n",
    "annotate(\"text\", x = 2012, y = 2, label = \"Intersection\", color = \"red\") + \\\n",
    "scale_y_continuous(limits = (0, None), ) + \\\n",
    "theme_minimal() + \\\n",
    "theme(legend_position = \"none\") + \\\n",
    "scale_colour_manual(values=(\"red\", \"darkgreen\", \"#619cff\" )) +\\\n",
    "scale_x_continuous(breaks=(2012,2014,2016,2018, 2020), ) +\\\n",
    "labs(y = \"Average number of references\") \n",
    "e1.save(path +'1e_avg_references.png')\n",
    "e1.save(path +'1e_avg_references.pdf')\n",
    "e1"
   ]
  },
  {
   "cell_type": "code",
   "execution_count": null,
   "metadata": {},
   "outputs": [],
   "source": [
    "e1csv = reference_health.groupby(\"Year\").agg({\"intersection\":\"mean\", \"health\":\"mean\", \"climate\":\"mean\"}).reset_index()\n",
    "e1csv.to_csv(path+ \"2s_avg_references.csv\")\n",
    "plt = pd.melt(e1csv, id_vars=['Year'] )\n",
    "plt.variable = pd.Categorical(plt.variable, categories=[\"intersection\", \"climate\", \"health\"], ordered=True)\n",
    "e1 = ggplot(plt, aes(x = \"Year\", y = \"value\", color = \"variable\")) + \\\n",
    "geom_path(aes(linetype = \"variable\")) + \\\n",
    "scale_linetype_manual(values = (\"solid\", 'dashdot', \"--\")) + \\\n",
    "annotate(\"text\", x = 2013, y = 40, label = \"Health\", color = \"#619cff\") + \\\n",
    "annotate(\"text\", x = 2014, y = 10, label = \"Climate Change\", color = \"darkgreen\") + \\\n",
    "annotate(\"text\", x = 2012, y = 5, label = \"Intersection\", color = \"red\") + \\\n",
    "scale_y_continuous(limits = (0, None), ) + \\\n",
    "theme_minimal() + \\\n",
    "theme(legend_position = \"none\") + \\\n",
    "scale_colour_manual(values=(\"red\", \"darkgreen\", \"#619cff\" )) +\\\n",
    "scale_x_continuous(breaks=(2012,2014,2016,2018, 2020), ) +\\\n",
    "labs(y = \"Average number of references\") \n",
    "e1.save(path +'2s_avg_references.png')\n",
    "e1.save(path +'2s_avg_references.pdf')\n",
    "e1"
   ]
  },
  {
   "cell_type": "code",
   "execution_count": null,
   "metadata": {},
   "outputs": [],
   "source": [
    "reference_who[reference_who.WHO !=0].to_csv(path+ \"1f_who_number_references.csv\")\n",
    "f1 = ggplot(reference_who[reference_who.WHO !=0], aes(x = \"Year\", y = \"intersection\", color = \"WHO\")) + \\\n",
    "geom_path(aes()) + \\\n",
    "scale_y_continuous(limits = (0, None), ) + \\\n",
    "theme_minimal() + \\\n",
    "theme(legend_position = \"right\") + \\\n",
    "scale_x_continuous(breaks=(2012,2014,2016,2018, 2020), ) +\\\n",
    "labs(y = \"Total number of references\") \n",
    "f1.save(path +'1f_who_number_references.png')\n",
    "f1.save(path +'1f_who_number_references.pdf')\n",
    "f1"
   ]
  },
  {
   "cell_type": "code",
   "execution_count": null,
   "metadata": {},
   "outputs": [],
   "source": [
    "reference_who_health = reference_health.groupby([\"WHO\", \"Year\"]).agg({\"intersection\": \"sum\",\n",
    "                                           \"climate\": \"sum\",\n",
    "                                           \"health\":\"sum\", })\n",
    "reference_who_health[\"sum\"] = reference_who_health[\"intersection\"] + reference_who_health[\"climate\"] + reference_who_health[\"health\"]\n",
    "reference_who_health.reset_index(inplace = True)"
   ]
  },
  {
   "cell_type": "code",
   "execution_count": null,
   "metadata": {},
   "outputs": [],
   "source": [
    "reference_who_health[\"Sector\"] = \"Health Care Equipment & Ser...\"\n",
    "reference_who_health[reference_who_health.WHO !=0].to_csv(path+ \"2t_who_number_references.csv\")\n",
    "f1 = ggplot(reference_who_health[reference_who_health.WHO !=0], aes(x = \"Year\", y = \"intersection\", color = \"WHO\")) + \\\n",
    "geom_path(aes()) + \\\n",
    "scale_y_continuous(limits = (0, None), ) + \\\n",
    "theme_minimal() + \\\n",
    "theme(legend_position = \"right\") + \\\n",
    "scale_x_continuous(breaks=(2012,2014,2016,2018, 2020), ) +\\\n",
    "labs(y = \"Total number of references\") \n",
    "f1.save(path +'2t_who_number_references.png')\n",
    "f1.save(path +'2t_who_number_references.pdf')\n",
    "f1"
   ]
  },
  {
   "cell_type": "code",
   "execution_count": null,
   "metadata": {},
   "outputs": [],
   "source": [
    "who_prop[who_prop.WHO !=0].to_csv(path+ \"1g_who_prop_references.csv\")\n",
    "g1 = ggplot(who_prop[who_prop.WHO !=0], aes(x = \"Year\", y = \"Intersection\", color = \"WHO\")) + \\\n",
    "geom_path(aes()) + \\\n",
    "scale_y_continuous(labels = percent_format(), limits = (0, None)) + \\\n",
    "theme_minimal() + \\\n",
    "theme(legend_position = \"right\") + \\\n",
    "scale_x_continuous(breaks=(2012,2014,2016,2018, 2020), ) +\\\n",
    "labs(y = \"Proportion of companies, %\") \n",
    "g1.save(path +'1g_who_prop_references.png')\n",
    "g1.save(path +'1g_who_prop_references.pdf')\n",
    "g1"
   ]
  },
  {
   "cell_type": "code",
   "execution_count": null,
   "metadata": {},
   "outputs": [],
   "source": [
    "who_prop_health[who_prop_health.WHO !=0].to_csv(path+ \"2u_who_prop_references.csv\")\n",
    "g1 = ggplot(who_prop_health[who_prop_health.WHO !=0], aes(x = \"Year\", y = \"Intersection\", color = \"WHO\")) + \\\n",
    "geom_path(aes()) + \\\n",
    "scale_y_continuous(labels = percent_format(), limits = (0, None)) + \\\n",
    "theme_minimal() + \\\n",
    "theme(legend_position = \"right\") + \\\n",
    "scale_x_continuous(breaks=(2012,2014,2016,2018, 2020), ) +\\\n",
    "labs(y = \"Proportion of companies, %\") \n",
    "g1.save(path +'2u_who_prop_references.png')\n",
    "g1.save(path +'2u_who_prop_references.pdf')\n",
    "g1"
   ]
  },
  {
   "cell_type": "code",
   "execution_count": null,
   "metadata": {
    "scrolled": true
   },
   "outputs": [],
   "source": [
    "#1h_sids_number_references.csv\n",
    "reference_sids[\"sum\"] = reference_sids[\"intersection\"] + reference_sids[\"climate\"] + reference_sids[\"health\"] \n",
    "reference_sids.to_csv(path+ \"1h_sids_number_references.csv\")\n",
    "h1 = ggplot(reference_sids[reference_sids.SIDS != 0], aes(x = \"Year\", y = \"intersection\", color = \"SIDS\")) + \\\n",
    "geom_path(aes()) + \\\n",
    "scale_y_continuous(limits = (0, None), ) + \\\n",
    "theme_minimal() + \\\n",
    "theme(legend_position = \"right\") + \\\n",
    "scale_x_continuous(breaks=(2012,2014,2016,2018, 2020), ) +\\\n",
    "labs(y = \"Total number of references\")\n",
    "h1.save(path +'1h_sids_number_references.png')\n",
    "h1.save(path +'1h_sids_number_references.pdf')\n",
    "h1"
   ]
  },
  {
   "cell_type": "code",
   "execution_count": null,
   "metadata": {
    "scrolled": true
   },
   "outputs": [],
   "source": [
    "#2v_sids_number_references.csv\n",
    "reference_sids_health[\"sum\"] = reference_sids_health[\"intersection\"] + reference_sids_health[\"climate\"] + reference_sids_health[\"health\"] \n",
    "reference_sids.to_csv(path+ \"2v_sids_number_references.csv\")\n",
    "h1 = ggplot(reference_sids_health[reference_sids_health.SIDS != 0], aes(x = \"Year\", y = \"intersection\", color = \"SIDS\")) + \\\n",
    "geom_path(aes()) + \\\n",
    "scale_y_continuous(limits = (0, None), ) + \\\n",
    "theme_minimal() + \\\n",
    "theme(legend_position = \"right\") + \\\n",
    "scale_x_continuous(breaks=(2012,2014,2016,2018, 2020), ) +\\\n",
    "labs(y = \"Total number of references\")\n",
    "h1.save(path +'2v_sids_number_references.png')\n",
    "h1.save(path +'2v_sids_number_references.pdf')\n",
    "h1"
   ]
  },
  {
   "cell_type": "code",
   "execution_count": null,
   "metadata": {},
   "outputs": [],
   "source": [
    "sids_prop[sids_prop.SIDS !=0].to_csv(path+ \"1i_sids_prop_references.csv\")\n",
    "i1 = ggplot(sids_prop[sids_prop.SIDS !=0], aes(x = \"Year\", y = \"Intersection\", color = \"SIDS\")) + \\\n",
    "geom_path(aes()) + \\\n",
    "scale_y_continuous(labels = percent_format(), limits = (0, None)) + \\\n",
    "theme_minimal() + \\\n",
    "theme(legend_position = \"right\") + \\\n",
    "scale_x_continuous(breaks=(2012,2014,2016,2018, 2020), ) +\\\n",
    "labs(y = \"Proportion of companies, %\") \n",
    "i1.save(path +'1i_sids_prop_references.png')\n",
    "i1.save(path +'1i_sids_prop_references.pdf')\n",
    "i1"
   ]
  },
  {
   "cell_type": "code",
   "execution_count": null,
   "metadata": {},
   "outputs": [],
   "source": [
    "sids_prop_health[sids_prop_health.SIDS !=0].to_csv(path+ \"2w_sids_prop_references.csv\")\n",
    "i1 = ggplot(sids_prop_health[sids_prop_health.SIDS !=0], aes(x = \"Year\", y = \"Intersection\", color = \"SIDS\")) + \\\n",
    "geom_path(aes()) + \\\n",
    "scale_y_continuous(labels = percent_format(), limits = (0, None)) + \\\n",
    "theme_minimal() + \\\n",
    "theme(legend_position = \"right\") + \\\n",
    "scale_x_continuous(breaks=(2012,2014,2016,2018, 2020), ) +\\\n",
    "labs(y = \"Proportion of companies, %\") \n",
    "i1.save(path +'2w_sids_prop_references.png')\n",
    "i1.save(path +'2w_sids_prop_references.pdf')\n",
    "i1"
   ]
  },
  {
   "cell_type": "code",
   "execution_count": null,
   "metadata": {},
   "outputs": [],
   "source": [
    "reference_hdi[\"sum\"] = reference_hdi[\"intersection\"] + reference_hdi[\"climate\"] + reference_hdi[\"health\"] \n",
    "reference_hdi.to_csv(path+ \"1j_hdi_number_references.csv\")\n",
    "j1 = ggplot(reference_hdi[reference_hdi.HDI != 0], aes(x = \"Year\", y = \"intersection\", color = \"HDI\")) + \\\n",
    "geom_path(aes()) + \\\n",
    "scale_y_continuous(limits = (0, None), ) + \\\n",
    "theme_minimal() + \\\n",
    "theme(legend_position = \"right\") + \\\n",
    "scale_x_continuous(breaks=(2012,2014,2016,2018, 2020), ) +\\\n",
    "labs(y = \"Total number of references\")\n",
    "j1.save(path +'1j_hdi_number_references.png')\n",
    "j1.save(path +'1j_hdi_number_references.pdf')\n",
    "j1"
   ]
  },
  {
   "cell_type": "code",
   "execution_count": null,
   "metadata": {},
   "outputs": [],
   "source": [
    "reference_hdi_health[\"sum\"] = reference_hdi_health[\"intersection\"] + reference_hdi_health[\"climate\"] + reference_hdi_health[\"health\"] \n",
    "reference_hdi_health[\"Sector\"] = \"Health Care Equipment & Ser...\"\n",
    "reference_hdi_health.to_csv(path+ \"2x_hdi_number_references.csv\")\n",
    "j1 = ggplot(reference_hdi_health[reference_hdi_health.HDI != 0], aes(x = \"Year\", y = \"intersection\", color = \"HDI\")) + \\\n",
    "geom_path(aes()) + \\\n",
    "scale_y_continuous(limits = (0, None), ) + \\\n",
    "theme_minimal() + \\\n",
    "theme(legend_position = \"right\") + \\\n",
    "scale_x_continuous(breaks=(2012,2014,2016,2018, 2020), ) +\\\n",
    "labs(y = \"Total number of references\")\n",
    "j1.save(path +'2x_hdi_number_references.png')\n",
    "j1.save(path +'2x_hdi_number_references.pdf')\n",
    "j1"
   ]
  },
  {
   "cell_type": "code",
   "execution_count": null,
   "metadata": {},
   "outputs": [],
   "source": [
    "hdi_prop[hdi_prop.HDI !=0].to_csv(path+ \"1k_hdi_prop_references.csv\")\n",
    "k1 = ggplot(hdi_prop[hdi_prop.HDI !=0], aes(x = \"Year\", y = \"Intersection\", color = \"HDI\")) + \\\n",
    "geom_path(aes()) + \\\n",
    "scale_y_continuous(labels = percent_format(), limits = (0, 0.5)) + \\\n",
    "theme_minimal() + \\\n",
    "theme(legend_position = \"right\") + \\\n",
    "scale_x_continuous(breaks=(2012,2014,2016,2018, 2020), ) +\\\n",
    "labs(y = \"Proportion of companies, %\") \n",
    "# 1k_hdi_prop_references\n",
    "\n",
    "k1.save(path +'1k_hdi_prop_references.png')\n",
    "k1.save(path +'1k_hdi_prop_references.pdf')\n",
    "k1"
   ]
  },
  {
   "cell_type": "code",
   "execution_count": null,
   "metadata": {},
   "outputs": [],
   "source": [
    "hdi_prop_health[hdi_prop_health.HDI !=0].to_csv(path+ \"2y_hdi_prop_references.csv\")\n",
    "k1 = ggplot(hdi_prop_health[hdi_prop_health.HDI !=0], aes(x = \"Year\", y = \"Intersection\", color = \"HDI\")) + \\\n",
    "geom_path(aes()) + \\\n",
    "scale_y_continuous(labels = percent_format(), limits = (0, None)) + \\\n",
    "theme_minimal() + \\\n",
    "theme(legend_position = \"right\") + \\\n",
    "scale_x_continuous(breaks=(2012,2014,2016,2018, 2020), ) +\\\n",
    "labs(y = \"Proportion of companies, %\") \n",
    "# 1k_hdi_prop_references\n",
    "\n",
    "k1.save(path +'2y_hdi_prop_references.png')\n",
    "k1.save(path +'2y_hdi_prop_references.pdf')\n",
    "k1"
   ]
  },
  {
   "cell_type": "code",
   "execution_count": null,
   "metadata": {},
   "outputs": [],
   "source": [
    "# 1l_sector_references_2021\n",
    "reference_df_sector.to_csv(path+\"1l_sector_references_2021.csv\")\n",
    "reference_df_sector"
   ]
  },
  {
   "cell_type": "code",
   "execution_count": null,
   "metadata": {},
   "outputs": [],
   "source": [
    "# 1m_avg_sector_references_2020.csv\n",
    "avg_sector.to_csv(path + \"1m_avg_sector_references_2021.csv\")\n",
    "avg_sector"
   ]
  },
  {
   "cell_type": "code",
   "execution_count": null,
   "metadata": {},
   "outputs": [],
   "source": [
    "# 1n_prop_companies_sector.csv  2021\n",
    "sector_prop[\"Year\"] = 2021\n",
    "sector_prop.to_csv(path + \"1n_prop_companies_sector.csv\")\n",
    "melt = sector_prop.melt(id_vars=[\"Sector\", 'Year'])\n",
    "melt.variable = pd.Categorical(melt.variable, categories=[\"Intersection\", \"Climate\", \"Health\"], ordered=True)\n",
    "n1 = ggplot(melt, aes(x = \"Sector\", y = \"value\", fill = \"variable\")) + \\\n",
    "  geom_bar(stat = \"identity\", position = \"dodge\") + \\\n",
    "  theme_minimal() + \\\n",
    "  scale_y_continuous(labels = percent_format()) + \\\n",
    "  theme(axis_text_x = element_text(angle = 90, vjust = 1, hjust=0.5, size = 10 ), ) + \\\n",
    "  theme(legend_position = (0.5, -0.4), legend_direction=\"horizontal\", figure_size=(14, 7)) + \\\n",
    "  scale_fill_manual(values=(\"red\", \"darkgreen\", \"#619cff\" )) +\\\n",
    "  labs(fill = \"\",\n",
    "       y = \"Proportion of companies, %\",\n",
    "       x = \"\\nSector\")\n",
    "n1.save(path +'1n_prop_companies_sector.png')\n",
    "n1.save(path +'1n_prop_companies_sector.pdf')\n",
    "n1"
   ]
  },
  {
   "cell_type": "code",
   "execution_count": null,
   "metadata": {
    "scrolled": true
   },
   "outputs": [],
   "source": [
    "reference[\"covid_texts\"] = reference.groupby([\"Year\", \"Sector\", \"Id\"]).covid.transform(\"sum\") > 0\n",
    "reference[\"gender_texts\"] = reference.groupby([\"Year\", \"Sector\", \"Id\"]).gender.transform(\"sum\") > 0"
   ]
  },
  {
   "cell_type": "code",
   "execution_count": null,
   "metadata": {},
   "outputs": [],
   "source": [
    "covid_inter = reference[(reference.Year > 2019) & (reference.intersection > 0)].groupby([\"Year\"]).agg({\"Id\": \"nunique\", \"covid\":\"sum\", \"covid_texts\": \"sum\",})\n",
    "covid_inter[\"prop\"] = (covid_inter[\"covid\"]/covid_inter[\"Id\"]).round(2)\n",
    "covid_inter.set_axis([\"total_docs\", \"hits\", \"documents\", \"prop_doct\"], axis=1, inplace=True)\n",
    "covid_inter[\"hits\"] = covid_inter[\"hits\"].astype(\"int\")\n",
    "covid_inter.reset_index(inplace = True)\n",
    "covid_inter.to_csv(path + \"1o_intersection_covid.csv\")\n",
    "covid_inter"
   ]
  },
  {
   "cell_type": "code",
   "execution_count": null,
   "metadata": {},
   "outputs": [],
   "source": [
    "o1 = ggplot(covid_inter, aes(x = \"Year\", y = \"prop_doct\", group = 1)) +\\\n",
    "  geom_line(color = \"#cc0055\") +\\\n",
    "  theme_minimal() +\\\n",
    "  labs(x= \"Year\",\n",
    "       y = \"Proportion of documents\\n Covid mention in intersection, %\\n\") +\\\n",
    "  scale_y_continuous(labels = percent_format(), limits = (0, None))\n",
    "o1.save(path +'1o_prop_intersecion_covid.png')\n",
    "o1.save(path +'1o_prop_intersecion_covid.pdf')\n",
    "o1"
   ]
  },
  {
   "cell_type": "code",
   "execution_count": null,
   "metadata": {},
   "outputs": [],
   "source": [
    "# 1o_intersection_gender\n",
    "gender_inter = reference[(reference.Year > 2010) & (reference.intersection > 0)].groupby([\"Year\"]).agg({\"Id\": \"nunique\", \"gender\":\"sum\", \"gender_texts\": \"sum\", })\n",
    "gender_inter[\"prop\"] = (gender_inter[\"gender\"]/gender_inter[\"Id\"]).round(2)\n",
    "gender_inter.set_axis([\"total_docs\", \"hits\", \"documents\", \"prop_doct\"], axis=1, inplace=True)\n",
    "gender_inter[\"hits\"] = gender_inter[\"hits\"].astype(\"int\")\n",
    "gender_inter.reset_index(inplace = True)"
   ]
  },
  {
   "cell_type": "code",
   "execution_count": null,
   "metadata": {
    "scrolled": true
   },
   "outputs": [],
   "source": [
    "gender_inter.to_csv(path + \"1o_intersection_gender.csv\", index = False)\n",
    "o1 = ggplot(gender_inter, aes(x = \"Year\", y = \"prop_doct\", group = 1)) +\\\n",
    "  geom_line(color = \"#cc0055\") +\\\n",
    "  theme_minimal() +\\\n",
    "  labs(x= \"Year\",\n",
    "       y = \"Proportion of documents\\n Gender mention in intersection, %\\n\") +\\\n",
    "  scale_y_continuous(labels = percent_format(), limits = (0, None))\n",
    "o1.save(path +'1o_prop_intersecion_gender.png')\n",
    "o1.save(path +'1o_prop_intersecion_gender.pdf')\n",
    "o1"
   ]
  },
  {
   "cell_type": "code",
   "execution_count": null,
   "metadata": {},
   "outputs": [],
   "source": []
  }
 ],
 "metadata": {
  "kernelspec": {
   "display_name": "Python 3",
   "language": "python",
   "name": "python3"
  },
  "language_info": {
   "codemirror_mode": {
    "name": "ipython",
    "version": 3
   },
   "file_extension": ".py",
   "mimetype": "text/x-python",
   "name": "python",
   "nbconvert_exporter": "python",
   "pygments_lexer": "ipython3",
   "version": "3.6.9"
  }
 },
 "nbformat": 4,
 "nbformat_minor": 2
}
